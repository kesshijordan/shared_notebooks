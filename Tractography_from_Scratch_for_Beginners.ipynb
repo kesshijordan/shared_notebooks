{
 "cells": [
  {
   "cell_type": "code",
   "execution_count": 17,
   "metadata": {
    "collapsed": true
   },
   "outputs": [],
   "source": [
    "%matplotlib inline"
   ]
  },
  {
   "cell_type": "markdown",
   "metadata": {},
   "source": [
    "# Background\n",
    "\n",
    "This is a version of the Dipy Tracking Quickstart Tutorial (http://nipy.org/dipy/examples_built/tracking_quick_start.html#example-tracking-quick-start) for beginners to python\n",
    "\n",
    "We are using an ipython notebook to run tracking because you can view your results with your code step-by-step. The first line (%matplotlib inline) is run to make figures show inline\n",
    "\n",
    "To run a line of code, click on it and hold down the shift key while you press enter/return\n",
    "\n",
    "NOTE: We assume that you have eddy-corrected (https://fsl.fmrib.ox.ac.uk/fsl/fslwiki/eddy) (and if you can susceptibility-corrected; https://fsl.fmrib.ox.ac.uk/fsl/fslwiki/topup) your data\n",
    "\n"
   ]
  },
  {
   "cell_type": "markdown",
   "metadata": {},
   "source": [
    "# Imports"
   ]
  },
  {
   "cell_type": "code",
   "execution_count": 50,
   "metadata": {},
   "outputs": [],
   "source": [
    "# os has lots of tools for working with the operating system (mkdir, ls)\n",
    "# https://docs.python.org/2/library/os.html\n",
    "import os\n",
    "\n",
    "# glob allows you to list paths with wildcards\n",
    "from glob import glob\n",
    "\n",
    "# nibabel helps us load and save filetypes in neuroimaging\n",
    "# http://nipy.org/nibabel/\n",
    "import nibabel as nib\n",
    "\n",
    "# nilearn has really nice plotting\n",
    "import nilearn.plotting as nip\n",
    "\n",
    "# gradient table\n",
    "from dipy.data import gradient_table\n",
    "\n",
    "# imports from the Dipy tracking quickstart tutorial\n",
    "import numpy as np\n",
    "from dipy.tracking.local import LocalTracking, ThresholdTissueClassifier\n",
    "from dipy.tracking.utils import random_seeds_from_mask\n",
    "from dipy.reconst.dti import TensorModel\n",
    "from dipy.reconst.csdeconv import (ConstrainedSphericalDeconvModel,\n",
    "                                   auto_response)\n",
    "from dipy.direction import peaks_from_model\n",
    "from dipy.data import fetch_stanford_hardi, read_stanford_hardi, get_sphere\n",
    "from dipy.segment.mask import median_otsu\n",
    "from dipy.viz import actor, window\n",
    "from dipy.io.image import save_nifti\n",
    "from nibabel.streamlines import save as save_trk\n",
    "from nibabel.streamlines import Tractogram\n",
    "from dipy.tracking.streamline import Streamlines"
   ]
  },
  {
   "cell_type": "markdown",
   "metadata": {},
   "source": [
    "# Find our data"
   ]
  },
  {
   "cell_type": "markdown",
   "metadata": {},
   "source": [
    "EDIT THIS SECTION TO MAKE SURE YOU GET THE THREE FILES: BVALUE, BVECTOR, AND NIFTI FILE"
   ]
  },
  {
   "cell_type": "code",
   "execution_count": 51,
   "metadata": {},
   "outputs": [],
   "source": [
    "data_directory = '/Users/kesshijordan/ref_data/tutorial_data'"
   ]
  },
  {
   "cell_type": "markdown",
   "metadata": {},
   "source": [
    "List the contents of the directory (ls)"
   ]
  },
  {
   "cell_type": "code",
   "execution_count": 52,
   "metadata": {},
   "outputs": [
    {
     "data": {
      "text/plain": [
       "['mydata_b2000_SC_EC.nii.gz',\n",
       " 'mydata_b2000_SC_EC.bval',\n",
       " 'mydata_b2000_SC_EC.bvec']"
      ]
     },
     "execution_count": 52,
     "metadata": {},
     "output_type": "execute_result"
    }
   ],
   "source": [
    "contents_of_data_directory = os.listdir(data_directory)\n",
    "contents_of_data_directory"
   ]
  },
  {
   "cell_type": "markdown",
   "metadata": {},
   "source": [
    "We can put our path together by joining the path to our data directory with our file name"
   ]
  },
  {
   "cell_type": "code",
   "execution_count": 53,
   "metadata": {},
   "outputs": [
    {
     "data": {
      "text/plain": [
       "'/Users/kesshijordan/ref_data/tutorial_data/mydata_b2000_SC_EC.nii.gz'"
      ]
     },
     "execution_count": 53,
     "metadata": {},
     "output_type": "execute_result"
    }
   ],
   "source": [
    "data_path = os.path.join(data_directory, contents_of_data_directory[0])\n",
    "data_path"
   ]
  },
  {
   "cell_type": "code",
   "execution_count": 54,
   "metadata": {},
   "outputs": [
    {
     "data": {
      "text/plain": [
       "'/Users/kesshijordan/ref_data/tutorial_data/mydata_b2000_SC_EC.nii.gz'"
      ]
     },
     "execution_count": 54,
     "metadata": {},
     "output_type": "execute_result"
    }
   ],
   "source": [
    "data_path = os.path.join(data_directory, 'mydata_b2000_SC_EC.nii.gz')\n",
    "data_path"
   ]
  },
  {
   "cell_type": "code",
   "execution_count": 55,
   "metadata": {},
   "outputs": [
    {
     "data": {
      "text/plain": [
       "'/Users/kesshijordan/ref_data/tutorial_data/mydata_b2000_SC_EC.nii.gz'"
      ]
     },
     "execution_count": 55,
     "metadata": {},
     "output_type": "execute_result"
    }
   ],
   "source": [
    "data_path = data_directory+'/mydata_b2000_SC_EC.nii.gz'\n",
    "data_path"
   ]
  },
  {
   "cell_type": "markdown",
   "metadata": {},
   "source": [
    "## Glob lets us list things that match a given pattern with *"
   ]
  },
  {
   "cell_type": "code",
   "execution_count": 56,
   "metadata": {},
   "outputs": [
    {
     "data": {
      "text/plain": [
       "['/Users/kesshijordan/ref_data/tutorial_data/mydata_b2000_SC_EC.nii.gz',\n",
       " '/Users/kesshijordan/ref_data/tutorial_data/mydata_b2000_SC_EC.bval',\n",
       " '/Users/kesshijordan/ref_data/tutorial_data/mydata_b2000_SC_EC.bvec']"
      ]
     },
     "execution_count": 56,
     "metadata": {},
     "output_type": "execute_result"
    }
   ],
   "source": [
    "contents_of_data_directory = glob(data_directory+'/*')\n",
    "contents_of_data_directory"
   ]
  },
  {
   "cell_type": "code",
   "execution_count": 57,
   "metadata": {},
   "outputs": [
    {
     "data": {
      "text/plain": [
       "['/Users/kesshijordan/ref_data/tutorial_data/mydata_b2000_SC_EC.nii.gz']"
      ]
     },
     "execution_count": 57,
     "metadata": {},
     "output_type": "execute_result"
    }
   ],
   "source": [
    "nifti_list = glob(data_directory+'/*.nii.gz')\n",
    "nifti_list"
   ]
  },
  {
   "cell_type": "code",
   "execution_count": 26,
   "metadata": {},
   "outputs": [
    {
     "data": {
      "text/plain": [
       "'/Users/kesshijordan/ref_data/tutorial_data/mydata_b2000_SC_EC.nii.gz'"
      ]
     },
     "execution_count": 26,
     "metadata": {},
     "output_type": "execute_result"
    }
   ],
   "source": [
    "data_file = nifti_list[0]\n",
    "data_file"
   ]
  },
  {
   "cell_type": "code",
   "execution_count": 27,
   "metadata": {},
   "outputs": [
    {
     "data": {
      "text/plain": [
       "['/Users/kesshijordan/ref_data/tutorial_data/mydata_b2000_SC_EC.bvec']"
      ]
     },
     "execution_count": 27,
     "metadata": {},
     "output_type": "execute_result"
    }
   ],
   "source": [
    "bvec_list = glob(data_directory+'/*.bvec')\n",
    "bvec_list"
   ]
  },
  {
   "cell_type": "code",
   "execution_count": 28,
   "metadata": {},
   "outputs": [
    {
     "data": {
      "text/plain": [
       "'/Users/kesshijordan/ref_data/tutorial_data/mydata_b2000_SC_EC.bvec'"
      ]
     },
     "execution_count": 28,
     "metadata": {},
     "output_type": "execute_result"
    }
   ],
   "source": [
    "bvec_file = bvec_list[0]\n",
    "bvec_file"
   ]
  },
  {
   "cell_type": "markdown",
   "metadata": {},
   "source": [
    "If there is only one file, you can even do both steps at once. Always check that the file you think you're pulling is the one you actually get (e.g. what if someone added another nifti file to your directory at your directory and you run the code in a few weeks? You could select the wrong file). "
   ]
  },
  {
   "cell_type": "code",
   "execution_count": 29,
   "metadata": {},
   "outputs": [
    {
     "data": {
      "text/plain": [
       "'/Users/kesshijordan/ref_data/tutorial_data/mydata_b2000_SC_EC.bval'"
      ]
     },
     "execution_count": 29,
     "metadata": {},
     "output_type": "execute_result"
    }
   ],
   "source": [
    "bval_file = glob(data_directory+'/*.bval')[0]\n",
    "bval_file"
   ]
  },
  {
   "cell_type": "markdown",
   "metadata": {},
   "source": [
    "If we use a consistent filename, we could also substitute instead"
   ]
  },
  {
   "cell_type": "code",
   "execution_count": 30,
   "metadata": {},
   "outputs": [
    {
     "data": {
      "text/plain": [
       "'/Users/kesshijordan/ref_data/tutorial_data/mydata_b2000_SC_EC.bval'"
      ]
     },
     "execution_count": 30,
     "metadata": {},
     "output_type": "execute_result"
    }
   ],
   "source": [
    "bval_file = data_file.replace('.nii.gz','.bval')\n",
    "bval_file"
   ]
  },
  {
   "cell_type": "markdown",
   "metadata": {},
   "source": [
    "## Load the data"
   ]
  },
  {
   "cell_type": "code",
   "execution_count": 32,
   "metadata": {
    "collapsed": true
   },
   "outputs": [],
   "source": [
    "img = nib.load(data_file)\n",
    "data = img.get_data()\n",
    "\n",
    "# load the bvectors and bvalues into a gradient table\n",
    "gtab = gradient_table(bval_file, bvec_file)"
   ]
  },
  {
   "cell_type": "markdown",
   "metadata": {},
   "source": [
    "Let's check and see if our files match our expectations"
   ]
  },
  {
   "cell_type": "code",
   "execution_count": 34,
   "metadata": {},
   "outputs": [
    {
     "name": "stdout",
     "output_type": "stream",
     "text": [
      "(100, 100, 60, 69)\n"
     ]
    }
   ],
   "source": [
    "print(data.shape)"
   ]
  },
  {
   "cell_type": "markdown",
   "metadata": {},
   "source": [
    "Okay... so our data is 100x100 with 60 slices and 69 volumes"
   ]
  },
  {
   "cell_type": "code",
   "execution_count": 37,
   "metadata": {},
   "outputs": [
    {
     "name": "stdout",
     "output_type": "stream",
     "text": [
      "[   0. 2000. 2000. 2000. 2000. 2000. 2000. 2000. 2000. 2000. 2000. 2000.\n",
      " 2000. 2000. 2000. 2000. 2000.    0. 2000. 2000. 2000. 2000. 2000. 2000.\n",
      " 2000. 2000. 2000. 2000. 2000. 2000. 2000. 2000. 2000. 2000.    0. 2000.\n",
      " 2000. 2000. 2000. 2000. 2000. 2000. 2000. 2000. 2000. 2000. 2000. 2000.\n",
      " 2000. 2000. 2000.    0. 2000. 2000. 2000. 2000. 2000. 2000. 2000. 2000.\n",
      " 2000. 2000. 2000. 2000. 2000. 2000. 2000. 2000.    0.]\n"
     ]
    }
   ],
   "source": [
    "print(gtab.bvals)"
   ]
  },
  {
   "cell_type": "markdown",
   "metadata": {},
   "source": [
    "... and we have our bvalues... b2000 with b0 interspersed"
   ]
  },
  {
   "cell_type": "code",
   "execution_count": 39,
   "metadata": {},
   "outputs": [
    {
     "name": "stdout",
     "output_type": "stream",
     "text": [
      "(69, 3)\n"
     ]
    }
   ],
   "source": [
    "print(gtab.bvecs.shape)"
   ]
  },
  {
   "cell_type": "markdown",
   "metadata": {},
   "source": [
    "... and the shape of our bvecs make sense... 69 directions by 3 dimenstions (xyz)"
   ]
  },
  {
   "cell_type": "markdown",
   "metadata": {},
   "source": [
    "# Save a B0 image"
   ]
  },
  {
   "cell_type": "markdown",
   "metadata": {},
   "source": [
    "Pick the first B0 image"
   ]
  },
  {
   "cell_type": "code",
   "execution_count": 77,
   "metadata": {},
   "outputs": [],
   "source": [
    "index_of_first_B0 = np.where(gtab.b0s_mask)[0][0]\n",
    "b0_array = data[:,:,:,index_of_first_B0]\n",
    "b0_save_path = data_file.replace('.nii.gz','_b0.nii.gz')\n",
    "save_nifti(b0_save_path, b0_array, img.affine)"
   ]
  },
  {
   "cell_type": "markdown",
   "metadata": {},
   "source": [
    "# Do a quick brain segmentation"
   ]
  },
  {
   "cell_type": "code",
   "execution_count": 78,
   "metadata": {},
   "outputs": [],
   "source": [
    "maskdata, mask = median_otsu(data, 3, 1, False,\n",
    "                             vol_idx=range(10, 50), dilate=2)\n",
    "mask_save_path = data_file.replace('.nii.gz','_mask.nii.gz')\n",
    "save_nifti(mask_save_path, mask*1, img.affine)"
   ]
  },
  {
   "cell_type": "code",
   "execution_count": 85,
   "metadata": {},
   "outputs": [
    {
     "name": "stderr",
     "output_type": "stream",
     "text": [
      "/Users/kesshijordan/anaconda/lib/python3.6/site-packages/nilearn-0.4.1-py3.6.egg/nilearn/image/resampling.py:518: UserWarning: Casting data from int16 to float32\n",
      "  warnings.warn(\"Casting data from %s to %s\" % (data.dtype.name, aux))\n"
     ]
    },
    {
     "data": {
      "text/plain": [
       "<nilearn.plotting.displays.OrthoSlicer at 0x1305630b8>"
      ]
     },
     "execution_count": 85,
     "metadata": {},
     "output_type": "execute_result"
    },
    {
     "data": {
      "image/png": "[encoded data removed]",
      "text/plain": [
       "<Figure size 475.2x187.2 with 4 Axes>"
      ]
     },
     "metadata": {},
     "output_type": "display_data"
    }
   ],
   "source": [
    "nip.plot_roi(mask_save_path, bg_img=b0_save_path, cmap=nip.cm.bwr_r)"
   ]
  },
  {
   "cell_type": "markdown",
   "metadata": {},
   "source": [
    "# Estimate response function for CSD"
   ]
  },
  {
   "cell_type": "code",
   "execution_count": 86,
   "metadata": {
    "collapsed": true
   },
   "outputs": [],
   "source": [
    "response, ratio = auto_response(gtab, data, roi_radius=10, fa_thr=0.7)\n",
    "\n",
    "csd_model = ConstrainedSphericalDeconvModel(gtab, response)"
   ]
  },
  {
   "cell_type": "markdown",
   "metadata": {},
   "source": [
    "# Fit the data and calculate fiber directions"
   ]
  },
  {
   "cell_type": "code",
   "execution_count": 87,
   "metadata": {
    "collapsed": true
   },
   "outputs": [],
   "source": [
    "sphere = get_sphere('symmetric724')\n",
    "\n",
    "csd_peaks = peaks_from_model(model=csd_model,\n",
    "                             data=data,\n",
    "                             sphere=sphere,\n",
    "                             mask=mask,\n",
    "                             relative_peak_threshold=.5,\n",
    "                             min_separation_angle=25,\n",
    "                             parallel=True)"
   ]
  },
  {
   "cell_type": "markdown",
   "metadata": {},
   "source": [
    "# Fit the tensor model for the stopping condition (FA)"
   ]
  },
  {
   "cell_type": "code",
   "execution_count": 88,
   "metadata": {
    "collapsed": true
   },
   "outputs": [],
   "source": [
    "tensor_model = TensorModel(gtab, fit_method='WLS')\n",
    "tensor_fit = tensor_model.fit(data, mask)\n",
    "\n",
    "fa = tensor_fit.fa"
   ]
  },
  {
   "cell_type": "code",
   "execution_count": 89,
   "metadata": {
    "collapsed": true
   },
   "outputs": [],
   "source": [
    "tissue_classifier = ThresholdTissueClassifier(fa, 0.1)"
   ]
  },
  {
   "cell_type": "code",
   "execution_count": 90,
   "metadata": {
    "collapsed": true
   },
   "outputs": [],
   "source": [
    "seeds = random_seeds_from_mask(fa > 0.3, seeds_count=1)"
   ]
  },
  {
   "cell_type": "code",
   "execution_count": 92,
   "metadata": {
    "collapsed": true
   },
   "outputs": [],
   "source": [
    "interactive = False"
   ]
  },
  {
   "cell_type": "code",
   "execution_count": 93,
   "metadata": {},
   "outputs": [
    {
     "name": "stderr",
     "output_type": "stream",
     "text": [
      "/Users/kesshijordan/anaconda/lib/python3.6/site-packages/vtk/util/numpy_support.py:137: FutureWarning: Conversion of the second argument of issubdtype from `complex` to `np.complexfloating` is deprecated. In future, it will be treated as `np.complex128 == np.dtype(complex).type`.\n",
      "  assert not numpy.issubdtype(z.dtype, complex), \\\n",
      "/Users/kesshijordan/anaconda/lib/python3.6/site-packages/dipy/viz/colormap.py:233: RuntimeWarning: invalid value encountered in true_divide\n",
      "  orient = np.abs(orient / np.linalg.norm(orient))\n"
     ]
    }
   ],
   "source": [
    "ren = window.Renderer()\n",
    "ren.add(actor.peak_slicer(csd_peaks.peak_dirs,\n",
    "                          csd_peaks.peak_values,\n",
    "                          colors=None))\n",
    "\n",
    "if interactive:\n",
    "    window.show(ren, size=(900, 900))\n",
    "else:\n",
    "    window.record(ren, out_path='csd_direction_field.png', size=(900, 900))"
   ]
  },
  {
   "cell_type": "code",
   "execution_count": 94,
   "metadata": {
    "collapsed": true
   },
   "outputs": [],
   "source": [
    "streamline_generator = LocalTracking(csd_peaks, tissue_classifier,\n",
    "                                     seeds, affine=np.eye(4),\n",
    "                                     step_size=0.5)\n",
    "\n",
    "streamlines = Streamlines(streamline_generator)"
   ]
  },
  {
   "cell_type": "code",
   "execution_count": 95,
   "metadata": {},
   "outputs": [
    {
     "name": "stdout",
     "output_type": "stream",
     "text": [
      "61556\n"
     ]
    }
   ],
   "source": [
    "print(len(streamlines))"
   ]
  },
  {
   "cell_type": "code",
   "execution_count": 96,
   "metadata": {},
   "outputs": [
    {
     "name": "stderr",
     "output_type": "stream",
     "text": [
      "/Users/kesshijordan/anaconda/lib/python3.6/site-packages/vtk/util/numpy_support.py:137: FutureWarning: Conversion of the second argument of issubdtype from `complex` to `np.complexfloating` is deprecated. In future, it will be treated as `np.complex128 == np.dtype(complex).type`.\n",
      "  assert not numpy.issubdtype(z.dtype, complex), \\\n",
      "/Users/kesshijordan/anaconda/lib/python3.6/site-packages/dipy/viz/colormap.py:233: RuntimeWarning: invalid value encountered in true_divide\n",
      "  orient = np.abs(orient / np.linalg.norm(orient))\n"
     ]
    },
    {
     "name": "stdout",
     "output_type": "stream",
     "text": [
      "Saving illustration as det_streamlines.png\n"
     ]
    }
   ],
   "source": [
    "ren.clear()\n",
    "ren.add(actor.line(streamlines))\n",
    "\n",
    "if interactive:\n",
    "    window.show(ren, size=(900, 900))\n",
    "else:\n",
    "    print('Saving illustration as det_streamlines.png')\n",
    "    window.record(ren, out_path='det_streamlines.png', size=(900, 900))"
   ]
  },
  {
   "cell_type": "code",
   "execution_count": 97,
   "metadata": {
    "collapsed": true
   },
   "outputs": [],
   "source": [
    "save_trk(Tractogram(streamlines, affine_to_rasmm=img.affine),\n",
    "         'det_streamlines.trk')\n",
    "\n",
    "save_nifti('fa_map.nii.gz', fa, img.affine)"
   ]
  },
  {
   "cell_type": "code",
   "execution_count": null,
   "metadata": {
    "collapsed": true
   },
   "outputs": [],
   "source": []
  }
 ],
 "metadata": {
  "kernelspec": {
   "display_name": "Python 3",
   "language": "python",
   "name": "python3"
  },
  "language_info": {
   "codemirror_mode": {
    "name": "ipython",
    "version": 3
   },
   "file_extension": ".py",
   "mimetype": "text/x-python",
   "name": "python",
   "nbconvert_exporter": "python",
   "pygments_lexer": "ipython3",
   "version": "3.6.5"
  },
  "toc": {
   "nav_menu": {},
   "number_sections": true,
   "sideBar": true,
   "skip_h1_title": false,
   "toc_cell": false,
   "toc_position": {},
   "toc_section_display": "block",
   "toc_window_display": false
  }
 },
 "nbformat": 4,
 "nbformat_minor": 2
}
